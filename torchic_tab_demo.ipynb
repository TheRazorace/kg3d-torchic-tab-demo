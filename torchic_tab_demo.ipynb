{
 "cells": [
  {
   "cell_type": "markdown",
   "metadata": {},
   "source": [
    "# KG3D TorchicTab Demo "
   ]
  },
  {
   "cell_type": "markdown",
   "metadata": {},
   "source": [
    "This demo..."
   ]
  },
  {
   "cell_type": "markdown",
   "metadata": {},
   "source": [
    "### Visualize Dataset"
   ]
  },
  {
   "cell_type": "code",
   "execution_count": 1,
   "metadata": {},
   "outputs": [
    {
     "name": "stdout",
     "output_type": "stream",
     "text": [
      "Intel MKL WARNING: Support of Intel(R) Streaming SIMD Extensions 4.2 (Intel(R) SSE4.2) enabled only processors has been deprecated. Intel oneAPI Math Kernel Library 2025.0 will require Intel(R) Advanced Vector Extensions (Intel(R) AVX) instructions.\n",
      "Intel MKL WARNING: Support of Intel(R) Streaming SIMD Extensions 4.2 (Intel(R) SSE4.2) enabled only processors has been deprecated. Intel oneAPI Math Kernel Library 2025.0 will require Intel(R) Advanced Vector Extensions (Intel(R) AVX) instructions.\n"
     ]
    }
   ],
   "source": [
    "import pandas as pd"
   ]
  },
  {
   "cell_type": "code",
   "execution_count": 13,
   "metadata": {},
   "outputs": [
    {
     "data": {
      "text/html": [
       "<div>\n",
       "<style scoped>\n",
       "    .dataframe tbody tr th:only-of-type {\n",
       "        vertical-align: middle;\n",
       "    }\n",
       "\n",
       "    .dataframe tbody tr th {\n",
       "        vertical-align: top;\n",
       "    }\n",
       "\n",
       "    .dataframe thead th {\n",
       "        text-align: right;\n",
       "    }\n",
       "</style>\n",
       "<table border=\"1\" class=\"dataframe\">\n",
       "  <thead>\n",
       "    <tr style=\"text-align: right;\">\n",
       "      <th></th>\n",
       "      <th>aircraft_model</th>\n",
       "      <th>airline</th>\n",
       "      <th>creation_date</th>\n",
       "      <th>tail_number</th>\n",
       "    </tr>\n",
       "  </thead>\n",
       "  <tbody>\n",
       "    <tr>\n",
       "      <th>0</th>\n",
       "      <td>CRJ-700</td>\n",
       "      <td>Skywest Airlines</td>\n",
       "      <td>2009-09-10T16:33:00.000</td>\n",
       "      <td>N637CA</td>\n",
       "    </tr>\n",
       "    <tr>\n",
       "      <th>1</th>\n",
       "      <td>E175-</td>\n",
       "      <td>Skywest Airlines</td>\n",
       "      <td>2018-04-23T08:34:00.000</td>\n",
       "      <td>N205SY</td>\n",
       "    </tr>\n",
       "    <tr>\n",
       "      <th>2</th>\n",
       "      <td>B747-400</td>\n",
       "      <td>KLM Royal Dutch Airlines</td>\n",
       "      <td>2018-04-14T16:49:00.000</td>\n",
       "      <td>PHBFB</td>\n",
       "    </tr>\n",
       "  </tbody>\n",
       "</table>\n",
       "</div>"
      ],
      "text/plain": [
       "  aircraft_model                   airline            creation_date  \\\n",
       "0        CRJ-700          Skywest Airlines  2009-09-10T16:33:00.000   \n",
       "1          E175-          Skywest Airlines  2018-04-23T08:34:00.000   \n",
       "2       B747-400  KLM Royal Dutch Airlines  2018-04-14T16:49:00.000   \n",
       "\n",
       "  tail_number  \n",
       "0      N637CA  \n",
       "1      N205SY  \n",
       "2       PHBFB  "
      ]
     },
     "execution_count": 13,
     "metadata": {},
     "output_type": "execute_result"
    }
   ],
   "source": [
    "# Open aircraft csv \n",
    "aircraft_file_path = 'sfo-aircraft-tail-numbers-and-models.csv'\n",
    "lines_to_keep = 3\n",
    "df = pd.read_csv(aircraft_file_path)\n",
    "df = df.drop(df.columns[0], axis=1).head(lines_to_keep)[[\"aircraft_model\", \"airline\", \"creation_date\", \"tail_number\"]]\n",
    "aircraft_file_path_simple = 'aircraft_models.csv'\n",
    "df.to_csv(aircraft_file_path_simple, index=False)\n",
    "df\n"
   ]
  },
  {
   "cell_type": "markdown",
   "metadata": {},
   "source": [
    "### Produce Semantic Annotations with TorchicTab"
   ]
  },
  {
   "cell_type": "code",
   "execution_count": 14,
   "metadata": {},
   "outputs": [
    {
     "name": "stdout",
     "output_type": "stream",
     "text": [
      "TorchicTab Initiated!\n",
      "Connecting with Elasticsearch...\n",
      "Elasticsearch connection succesful!\n",
      "Loading table...\n",
      "Table: aircraft_models.csv \n",
      "   aircraft_model                   airline creation_date tail_number\n",
      "0        CRJ-700          Skywest Airlines    2009-09-10      N637CA\n",
      "1          E175-          Skywest Airlines    2018-04-23      N205SY\n",
      "2       B747-400  KLM Royal Dutch Airlines    2018-04-14       PHBFB \n",
      "\n",
      "Calculating structural annotations...\n",
      "Calculating semantic annotations...\n",
      "{0: [<torchic_tab_heuristic.entity_classes.CandidateEntity object at 0x7fcce4294e20>, <torchic_tab_heuristic.entity_classes.CandidateEntity object at 0x7fcce429a550>, <torchic_tab_heuristic.entity_classes.CandidateEntity object at 0x7fcce4291910>], 1: [<torchic_tab_heuristic.entity_classes.CandidateEntity object at 0x7fcc909a1250>, <torchic_tab_heuristic.entity_classes.CandidateEntity object at 0x7fcce2e61820>, <torchic_tab_heuristic.entity_classes.CandidateEntity object at 0x7fcce2d43550>], 2: [<torchic_tab_heuristic.entity_classes.CandidateEntity object at 0x7fcce2d8d430>, <torchic_tab_heuristic.entity_classes.CandidateEntity object at 0x7fcce2d7e8e0>, <torchic_tab_heuristic.entity_classes.CandidateEntity object at 0x7fcce2d7e700>]}\n",
      "Exporting all annotations...\n"
     ]
    }
   ],
   "source": [
    "from torchic_tab_heuristic.task_calculation_wd import generate_annotations\n",
    "\n",
    "(subject_column, \n",
    " primary_annotations, \n",
    " secondary_annotations, \n",
    " cea, \n",
    " cpa, \n",
    " cta) = generate_annotations(aircraft_file_path_simple)"
   ]
  },
  {
   "cell_type": "code",
   "execution_count": 16,
   "metadata": {},
   "outputs": [
    {
     "name": "stdout",
     "output_type": "stream",
     "text": [
      "The subject column of the table is column: \n",
      " 0     CRJ-700\n",
      "1       E175-\n",
      "2    B747-400\n",
      "Name: aircraft_model, dtype: object\n"
     ]
    }
   ],
   "source": [
    "# Get subject column of table\n",
    "print(f\"The subject column of the table is column: \\n {df.iloc[:, subject_column]}\")"
   ]
  },
  {
   "cell_type": "code",
   "execution_count": 17,
   "metadata": {},
   "outputs": [
    {
     "name": "stdout",
     "output_type": "stream",
     "text": [
      "\n",
      " aircraft_model\n",
      "0     CRJ-700\n",
      "1       E175-\n",
      "2    B747-400\n",
      "Name: aircraft_model, dtype: object\n",
      "Generic semantic type: NE\n",
      "\n",
      " airline\n",
      "0            Skywest Airlines\n",
      "1            Skywest Airlines\n",
      "2    KLM Royal Dutch Airlines\n",
      "Name: airline, dtype: object\n",
      "Generic semantic type: ORG\n",
      "\n",
      " creation_date\n",
      "0    2009-09-10T16:33:00.000\n",
      "1    2018-04-23T08:34:00.000\n",
      "2    2018-04-14T16:49:00.000\n",
      "Name: creation_date, dtype: object\n",
      "Generic semantic type: DATE\n",
      "\n",
      " tail_number\n",
      "0    N637CA\n",
      "1    N205SY\n",
      "2     PHBFB\n",
      "Name: tail_number, dtype: object\n",
      "Generic semantic type: NE\n"
     ]
    }
   ],
   "source": [
    "# Get generic semantic annotations of table\n",
    "print(\"Generic column annotations:\")\n",
    "for i in range(len(df.columns)):\n",
    "    print(\"\\n\",df.columns[i])\n",
    "    print(df.iloc[:, i])\n",
    "    print(f\"Generic semantic type: {secondary_annotations[i]}\")"
   ]
  },
  {
   "cell_type": "code",
   "execution_count": 20,
   "metadata": {},
   "outputs": [
    {
     "name": "stdout",
     "output_type": "stream",
     "text": [
      "\n",
      " aircraft_model\n",
      "0     CRJ-700\n",
      "1       E175-\n",
      "2    B747-400\n",
      "Name: aircraft_model, dtype: object\n",
      "Generic semantic type: NE\n",
      "Wikidata retrieved annotation: http://www.wikidata.org/entity/Q15056993\n",
      "\n",
      " airline\n",
      "0            Skywest Airlines\n",
      "1            Skywest Airlines\n",
      "2    KLM Royal Dutch Airlines\n",
      "Name: airline, dtype: object\n",
      "Generic semantic type: ORG\n",
      "Wikidata retrieved annotation: http://www.wikidata.org/entity/Q46970\n",
      "\n",
      " tail_number\n",
      "0    N637CA\n",
      "1    N205SY\n",
      "2     PHBFB\n",
      "Name: tail_number, dtype: object\n",
      "Generic semantic type: NE\n",
      "Wikidata retrieved annotation: http://www.wikidata.org/entity/Q1821082\n"
     ]
    }
   ],
   "source": [
    "# Get column type annotations\n",
    "print(\"Column type annotations:\")\n",
    "for type_annotation in cta:\n",
    "    column = int(type_annotation[0])\n",
    "    annotation = type_annotation[1]\n",
    "    print(\"\\n\",df.columns[column])\n",
    "    print(df.iloc[:, column])\n",
    "    print(f\"Generic semantic type: {secondary_annotations[column]}\")\n",
    "    print(f\"Wikidata retrieved annotation: {annotation}\")"
   ]
  },
  {
   "cell_type": "code",
   "execution_count": 32,
   "metadata": {},
   "outputs": [
    {
     "name": "stdout",
     "output_type": "stream",
     "text": [
      "Column relationships:\n",
      "\n",
      "Column: aircraft_model --> http://www.wikidata.org/prop/direct/P137 --> Column: airline\n"
     ]
    }
   ],
   "source": [
    "# Get column relationship annotations\n",
    "print(\"Column relationships:\")\n",
    "for rel_annotation in cpa:\n",
    "    if rel_annotation[2][-3:] == \"/P1\": continue #unkown relationship\n",
    "    col1 = int(rel_annotation[0])\n",
    "    col2 = int(rel_annotation[1])\n",
    "    relationship = rel_annotation[2]\n",
    "    print(f\"\\nColumn: {df.columns[col1]} --> {relationship} --> Column: {df.columns[col2]}\")\n",
    "    "
   ]
  },
  {
   "cell_type": "code",
   "execution_count": 33,
   "metadata": {},
   "outputs": [
    {
     "name": "stdout",
     "output_type": "stream",
     "text": [
      "Cell entity annotations:\n",
      "\n",
      "Column: aircraft_model\n",
      "Cell name: 'CRJ-700' --> Annotation: http://www.wikidata.org/entity/Q962677\n",
      "\n",
      "Column: aircraft_model\n",
      "Cell name: 'E175-' --> Annotation: http://www.wikidata.org/entity/Q5322348\n",
      "\n",
      "Column: aircraft_model\n",
      "Cell name: 'B747-400' --> Annotation: http://www.wikidata.org/entity/Q906937\n",
      "\n",
      "Column: airline\n",
      "Cell name: 'Skywest Airlines' --> Annotation: http://www.wikidata.org/entity/Q773662\n",
      "\n",
      "Column: airline\n",
      "Cell name: 'Skywest Airlines' --> Annotation: http://www.wikidata.org/entity/Q773662\n",
      "\n",
      "Column: airline\n",
      "Cell name: 'KLM Royal Dutch Airlines' --> Annotation: http://www.wikidata.org/entity/Q181912\n",
      "\n",
      "Column: tail_number\n",
      "Cell name: 'N637CA' --> Annotation: http://www.wikidata.org/entity/Q4356221\n",
      "\n",
      "Column: tail_number\n",
      "Cell name: 'N205SY' --> Annotation: http://www.wikidata.org/entity/Q2443635\n",
      "\n",
      "Column: tail_number\n",
      "Cell name: 'PHBFB' --> Annotation: http://www.wikidata.org/entity/Q21044913\n"
     ]
    }
   ],
   "source": [
    "# Get cell annotations\n",
    "print(\"Cell entity annotations:\")\n",
    "for cell_annotation in cea:\n",
    "    col = int(cell_annotation[0])\n",
    "    row = int(cell_annotation[1])\n",
    "    annotation = cell_annotation[2]\n",
    "    print(f\"\\nColumn: {df.columns[col]}\")\n",
    "    print(f\"Cell name: '{df.iloc[row, col]}' --> Annotation: {annotation}\")\n"
   ]
  }
 ],
 "metadata": {
  "kernelspec": {
   "display_name": "kgca-torchic",
   "language": "python",
   "name": "python3"
  },
  "language_info": {
   "codemirror_mode": {
    "name": "ipython",
    "version": 3
   },
   "file_extension": ".py",
   "mimetype": "text/x-python",
   "name": "python",
   "nbconvert_exporter": "python",
   "pygments_lexer": "ipython3",
   "version": "3.9.19"
  }
 },
 "nbformat": 4,
 "nbformat_minor": 2
}
